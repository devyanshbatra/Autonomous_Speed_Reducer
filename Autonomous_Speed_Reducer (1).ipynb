{
  "nbformat": 4,
  "nbformat_minor": 0,
  "metadata": {
    "colab": {
      "provenance": []
    },
    "kernelspec": {
      "name": "python3",
      "display_name": "Python 3"
    },
    "language_info": {
      "name": "python"
    }
  },
  "cells": [
    {
      "cell_type": "code",
      "execution_count": 1,
      "metadata": {
        "id": "eYcmE9yQ4dJK"
      },
      "outputs": [],
      "source": [
        "import numpy as np\n",
        "import pandas as pd   #Sample data is taken for the training of the model\n",
        "\n",
        "data = {\n",
        "    'Temperature': [22, 25, 30, 35, 40, 28, 24, 26, 27, 32],\n",
        "    'Visibility': [10, 20, 12, 8, 5, 15, 18, 20, 7, 9],\n",
        "    'Hydraullic': [0, 0, 1, 1, 1, 0, 0, 0, 1, 1]  # 1 means ON, 0 means OFF\n",
        "}\n",
        "\n",
        "df = pd.DataFrame(data)\n"
      ]
    },
    {
      "cell_type": "code",
      "source": [
        "from sklearn.model_selection import train_test_split\n",
        "from sklearn.preprocessing import StandardScaler\n",
        "\n",
        "# Features (X) and Target (y)\n",
        "X = df[['Temperature', 'Visibility']].values\n",
        "y = df['Hydraullic'].values\n",
        "\n",
        "# Split data into training and test sets\n",
        "X_train, X_test, y_train, y_test = train_test_split(X, y, test_size=0.2, random_state=42)\n",
        "\n",
        "# Feature Scaling\n",
        "scaler = StandardScaler()\n",
        "X_train = scaler.fit_transform(X_train)\n",
        "X_test = scaler.transform(X_test)\n"
      ],
      "metadata": {
        "id": "THNXv10T41CT"
      },
      "execution_count": null,
      "outputs": []
    },
    {
      "cell_type": "code",
      "source": [
        "from tensorflow.keras.models import Sequential\n",
        "from tensorflow.keras.layers import Dense\n",
        "\n",
        "# Build the model\n",
        "model = Sequential()\n",
        "model.add(Dense(units=10, activation='relu', input_dim=2))  # Input layer (Temperature, Visibility)\n",
        "model.add(Dense(units=8, activation='relu'))  # Hidden layer1\n",
        "model.add(Dense(units=8, activation='relu'))  # Hidden layer2\n",
        "model.add(Dense(units=1, activation='sigmoid'))  # Output layer (0/1)\n",
        "\n",
        "# Compile the model\n",
        "model.compile(optimizer='adam', loss='binary_crossentropy', metrics=['accuracy'])\n",
        "\n",
        "# Train the model\n",
        "model.fit(X_train, y_train, epochs=100, batch_size=10, verbose=0)\n"
      ],
      "metadata": {
        "id": "L1IjVh-U44un"
      },
      "execution_count": null,
      "outputs": []
    },
    {
      "cell_type": "code",
      "source": [
        "y_pred = model.predict(X_test)\n",
        "\n",
        "# Round the predictions to get binary results (0 or 1)\n",
        "y_pred = (y_pred > 0.5)\n"
      ],
      "metadata": {
        "id": "1DKV6Ntt4_T5"
      },
      "execution_count": null,
      "outputs": []
    }
  ]
}